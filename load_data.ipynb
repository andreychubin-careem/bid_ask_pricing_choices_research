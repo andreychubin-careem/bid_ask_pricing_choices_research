{
 "cells": [
  {
   "cell_type": "code",
   "execution_count": 1,
   "id": "40470b43-14d9-4486-a8cf-e0a526fe78e0",
   "metadata": {},
   "outputs": [],
   "source": [
    "import gc\n",
    "import warnings\n",
    "import numpy as np\n",
    "import pandas as pd\n",
    "from tqdm import tqdm\n",
    "from pyhive import presto"
   ]
  },
  {
   "cell_type": "code",
   "execution_count": 2,
   "id": "c13c40fc-7b6b-4011-84aa-913f2429a85f",
   "metadata": {},
   "outputs": [],
   "source": [
    "warnings.filterwarnings('ignore')"
   ]
  },
  {
   "cell_type": "code",
   "execution_count": 3,
   "id": "9dc40eac-e28b-4230-a455-d05e84f49426",
   "metadata": {},
   "outputs": [],
   "source": [
    "def get_query(date: str, service_area_id: int = 1, cct_id: int = 121) -> str:\n",
    "    return f\"\"\"\n",
    "        select\n",
    "            booking_id,\n",
    "            assignment_time,\n",
    "            estimated_trip_distance as distance,\n",
    "            estimated_duration as duration,\n",
    "            peak_captain,\n",
    "            peak_customer,\n",
    "            max_estimated_price as price\n",
    "        from prod_dwh.booking\n",
    "        where 1=1\n",
    "         and service_area_id = {service_area_id}\n",
    "         and day = date('{date}')\n",
    "         and cct_id = {cct_id}\n",
    "         and is_trip_ended\n",
    "         and not is_corporate\n",
    "         and not is_hdl\n",
    "         and not is_intercity\n",
    "         and not is_later\n",
    "         and estimated_trip_distance is not null\n",
    "         and estimated_duration is not null\n",
    "         and max_estimated_price is not null\n",
    "         and max_estimated_price > 0.0\n",
    "    \"\"\""
   ]
  },
  {
   "cell_type": "code",
   "execution_count": 4,
   "id": "0906b0a7-2323-4a42-8fa2-547c2eedc6eb",
   "metadata": {},
   "outputs": [],
   "source": [
    "conn = presto.connect(\n",
    "    host='presto-python-r-script-cluster.careem-engineering.com',\n",
    "    username='presto_python_r',\n",
    "    port=8080\n",
    ")"
   ]
  },
  {
   "cell_type": "code",
   "execution_count": 5,
   "id": "344d4318-c705-43ad-98c3-d9ce23bffd75",
   "metadata": {},
   "outputs": [],
   "source": [
    "date_range = [str(x).split(' ')[0] for x in pd.date_range(start='2023-02-01', end='2023-04-20', freq='D')]"
   ]
  },
  {
   "cell_type": "code",
   "execution_count": 6,
   "id": "0c0fcae0-138a-4cbb-94c9-c21dc9ff3d2a",
   "metadata": {},
   "outputs": [
    {
     "data": {
      "text/plain": [
       "79"
      ]
     },
     "execution_count": 6,
     "metadata": {},
     "output_type": "execute_result"
    }
   ],
   "source": [
    "len(date_range)"
   ]
  },
  {
   "cell_type": "code",
   "execution_count": 7,
   "id": "c17d8a00-aaf9-4d0d-ae97-cb32c95fafd0",
   "metadata": {},
   "outputs": [
    {
     "name": "stderr",
     "output_type": "stream",
     "text": [
      "100%|███████████████████████████████████████████| 79/79 [04:42<00:00,  3.57s/it]\n"
     ]
    },
    {
     "data": {
      "text/plain": [
       "0"
      ]
     },
     "execution_count": 7,
     "metadata": {},
     "output_type": "execute_result"
    }
   ],
   "source": [
    "df_list = []\n",
    "\n",
    "for date in tqdm(date_range):\n",
    "    sub = pd.read_sql(sql=get_query(date, 3, 171), con=conn)\n",
    "    df_list.append(sub)\n",
    "    \n",
    "data = pd.concat(df_list, ignore_index=True)\n",
    "\n",
    "del sub\n",
    "del df_list\n",
    "gc.collect()"
   ]
  },
  {
   "cell_type": "code",
   "execution_count": 8,
   "id": "750b6586-234a-4829-8ac3-4b8b4a730d6b",
   "metadata": {},
   "outputs": [
    {
     "data": {
      "text/html": [
       "<div>\n",
       "<style scoped>\n",
       "    .dataframe tbody tr th:only-of-type {\n",
       "        vertical-align: middle;\n",
       "    }\n",
       "\n",
       "    .dataframe tbody tr th {\n",
       "        vertical-align: top;\n",
       "    }\n",
       "\n",
       "    .dataframe thead th {\n",
       "        text-align: right;\n",
       "    }\n",
       "</style>\n",
       "<table border=\"1\" class=\"dataframe\">\n",
       "  <thead>\n",
       "    <tr style=\"text-align: right;\">\n",
       "      <th></th>\n",
       "      <th>booking_id</th>\n",
       "      <th>assignment_time</th>\n",
       "      <th>distance</th>\n",
       "      <th>duration</th>\n",
       "      <th>peak_captain</th>\n",
       "      <th>peak_customer</th>\n",
       "      <th>price</th>\n",
       "    </tr>\n",
       "  </thead>\n",
       "  <tbody>\n",
       "    <tr>\n",
       "      <th>0</th>\n",
       "      <td>1696220166</td>\n",
       "      <td>2023-02-01 13:23:06.000</td>\n",
       "      <td>1.87405</td>\n",
       "      <td>5</td>\n",
       "      <td>1.4</td>\n",
       "      <td>1.4</td>\n",
       "      <td>15.07</td>\n",
       "    </tr>\n",
       "    <tr>\n",
       "      <th>1</th>\n",
       "      <td>1695907575</td>\n",
       "      <td>2023-02-01 06:08:06.000</td>\n",
       "      <td>7.46549</td>\n",
       "      <td>10</td>\n",
       "      <td>1.0</td>\n",
       "      <td>1.0</td>\n",
       "      <td>20.11</td>\n",
       "    </tr>\n",
       "    <tr>\n",
       "      <th>2</th>\n",
       "      <td>1695997244</td>\n",
       "      <td>2023-02-01 08:55:33.000</td>\n",
       "      <td>1.23862</td>\n",
       "      <td>3</td>\n",
       "      <td>1.0</td>\n",
       "      <td>1.0</td>\n",
       "      <td>10.93</td>\n",
       "    </tr>\n",
       "    <tr>\n",
       "      <th>3</th>\n",
       "      <td>1696458671</td>\n",
       "      <td>2023-02-01 19:01:42.000</td>\n",
       "      <td>6.37642</td>\n",
       "      <td>9</td>\n",
       "      <td>1.0</td>\n",
       "      <td>1.0</td>\n",
       "      <td>17.24</td>\n",
       "    </tr>\n",
       "    <tr>\n",
       "      <th>4</th>\n",
       "      <td>1696437981</td>\n",
       "      <td>2023-02-01 18:12:49.000</td>\n",
       "      <td>5.67880</td>\n",
       "      <td>12</td>\n",
       "      <td>1.0</td>\n",
       "      <td>1.0</td>\n",
       "      <td>8.69</td>\n",
       "    </tr>\n",
       "  </tbody>\n",
       "</table>\n",
       "</div>"
      ],
      "text/plain": [
       "   booking_id          assignment_time  distance  duration  peak_captain  \\\n",
       "0  1696220166  2023-02-01 13:23:06.000   1.87405         5           1.4   \n",
       "1  1695907575  2023-02-01 06:08:06.000   7.46549        10           1.0   \n",
       "2  1695997244  2023-02-01 08:55:33.000   1.23862         3           1.0   \n",
       "3  1696458671  2023-02-01 19:01:42.000   6.37642         9           1.0   \n",
       "4  1696437981  2023-02-01 18:12:49.000   5.67880        12           1.0   \n",
       "\n",
       "   peak_customer  price  \n",
       "0            1.4  15.07  \n",
       "1            1.0  20.11  \n",
       "2            1.0  10.93  \n",
       "3            1.0  17.24  \n",
       "4            1.0   8.69  "
      ]
     },
     "execution_count": 8,
     "metadata": {},
     "output_type": "execute_result"
    }
   ],
   "source": [
    "data.head()"
   ]
  },
  {
   "cell_type": "code",
   "execution_count": 9,
   "id": "9db81a0c-c750-40f1-8bea-ebc7bdec502c",
   "metadata": {},
   "outputs": [
    {
     "data": {
      "text/plain": [
       "596552"
      ]
     },
     "execution_count": 9,
     "metadata": {},
     "output_type": "execute_result"
    }
   ],
   "source": [
    "len(data)"
   ]
  },
  {
   "cell_type": "code",
   "execution_count": 10,
   "id": "141fe631-960f-44e6-b5ce-c3feb86bb783",
   "metadata": {},
   "outputs": [],
   "source": [
    "data.to_parquet('data/riyadh.pq')"
   ]
  },
  {
   "cell_type": "code",
   "execution_count": null,
   "id": "d98082ba-a20d-4220-a4b9-6a49ec1b4763",
   "metadata": {},
   "outputs": [],
   "source": []
  }
 ],
 "metadata": {
  "kernelspec": {
   "display_name": "Python [conda env:geo] *",
   "language": "python",
   "name": "conda-env-geo-py"
  },
  "language_info": {
   "codemirror_mode": {
    "name": "ipython",
    "version": 3
   },
   "file_extension": ".py",
   "mimetype": "text/x-python",
   "name": "python",
   "nbconvert_exporter": "python",
   "pygments_lexer": "ipython3",
   "version": "3.8.16"
  }
 },
 "nbformat": 4,
 "nbformat_minor": 5
}
